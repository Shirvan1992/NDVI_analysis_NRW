{
 "cells": [
  {
   "cell_type": "markdown",
   "metadata": {},
   "source": [
    "# Cumulative Precipitation Time Series"
   ]
  },
  {
   "cell_type": "markdown",
   "metadata": {},
   "source": [
    "#### Aggregate hourly precipitation rate to achieve daily precipitation rate (2017-04-16 to 2017-08-17)"
   ]
  },
  {
   "cell_type": "code",
   "execution_count": 2,
   "metadata": {},
   "outputs": [],
   "source": [
    "import pandas as pd\n",
    "import numpy as np"
   ]
  },
  {
   "cell_type": "code",
   "execution_count": 3,
   "metadata": {},
   "outputs": [],
   "source": [
    "data = pd.read_csv('C:/Users/Toshiba/Documents/GitHub/MIE_2.02_GeoInfo_WS2020/data/generated/DWD/hourly/precipitation/historical/prec_ts_appended_4.csv',sep=\";\")"
   ]
  },
  {
   "cell_type": "code",
   "execution_count": 4,
   "metadata": {},
   "outputs": [
    {
     "data": {
      "text/html": [
       "<div>\n",
       "<style scoped>\n",
       "    .dataframe tbody tr th:only-of-type {\n",
       "        vertical-align: middle;\n",
       "    }\n",
       "\n",
       "    .dataframe tbody tr th {\n",
       "        vertical-align: top;\n",
       "    }\n",
       "\n",
       "    .dataframe thead th {\n",
       "        text-align: right;\n",
       "    }\n",
       "</style>\n",
       "<table border=\"1\" class=\"dataframe\">\n",
       "  <thead>\n",
       "    <tr style=\"text-align: right;\">\n",
       "      <th></th>\n",
       "      <th>mess_datum</th>\n",
       "      <th>stations_id</th>\n",
       "      <th>r1</th>\n",
       "      <th>longitude</th>\n",
       "      <th>latitude</th>\n",
       "    </tr>\n",
       "  </thead>\n",
       "  <tbody>\n",
       "    <tr>\n",
       "      <th>244833</th>\n",
       "      <td>2017-08-16 15:00:00</td>\n",
       "      <td>15000</td>\n",
       "      <td>0.0</td>\n",
       "      <td>6.0244</td>\n",
       "      <td>50.7983</td>\n",
       "    </tr>\n",
       "    <tr>\n",
       "      <th>244834</th>\n",
       "      <td>2017-08-16 16:00:00</td>\n",
       "      <td>15000</td>\n",
       "      <td>0.0</td>\n",
       "      <td>6.0244</td>\n",
       "      <td>50.7983</td>\n",
       "    </tr>\n",
       "    <tr>\n",
       "      <th>244835</th>\n",
       "      <td>2017-08-16 17:00:00</td>\n",
       "      <td>15000</td>\n",
       "      <td>0.0</td>\n",
       "      <td>6.0244</td>\n",
       "      <td>50.7983</td>\n",
       "    </tr>\n",
       "    <tr>\n",
       "      <th>244836</th>\n",
       "      <td>2017-08-16 18:00:00</td>\n",
       "      <td>15000</td>\n",
       "      <td>0.2</td>\n",
       "      <td>6.0244</td>\n",
       "      <td>50.7983</td>\n",
       "    </tr>\n",
       "    <tr>\n",
       "      <th>244837</th>\n",
       "      <td>2017-08-16 19:00:00</td>\n",
       "      <td>15000</td>\n",
       "      <td>0.0</td>\n",
       "      <td>6.0244</td>\n",
       "      <td>50.7983</td>\n",
       "    </tr>\n",
       "    <tr>\n",
       "      <th>244838</th>\n",
       "      <td>2017-08-16 20:00:00</td>\n",
       "      <td>15000</td>\n",
       "      <td>0.0</td>\n",
       "      <td>6.0244</td>\n",
       "      <td>50.7983</td>\n",
       "    </tr>\n",
       "    <tr>\n",
       "      <th>244839</th>\n",
       "      <td>2017-08-16 21:00:00</td>\n",
       "      <td>15000</td>\n",
       "      <td>0.0</td>\n",
       "      <td>6.0244</td>\n",
       "      <td>50.7983</td>\n",
       "    </tr>\n",
       "    <tr>\n",
       "      <th>244840</th>\n",
       "      <td>2017-08-16 22:00:00</td>\n",
       "      <td>15000</td>\n",
       "      <td>0.0</td>\n",
       "      <td>6.0244</td>\n",
       "      <td>50.7983</td>\n",
       "    </tr>\n",
       "    <tr>\n",
       "      <th>244841</th>\n",
       "      <td>2017-08-16 23:00:00</td>\n",
       "      <td>15000</td>\n",
       "      <td>0.0</td>\n",
       "      <td>6.0244</td>\n",
       "      <td>50.7983</td>\n",
       "    </tr>\n",
       "    <tr>\n",
       "      <th>244842</th>\n",
       "      <td>2017-08-17 00:00:00</td>\n",
       "      <td>15000</td>\n",
       "      <td>0.0</td>\n",
       "      <td>6.0244</td>\n",
       "      <td>50.7983</td>\n",
       "    </tr>\n",
       "  </tbody>\n",
       "</table>\n",
       "</div>"
      ],
      "text/plain": [
       "                 mess_datum  stations_id   r1  longitude  latitude\n",
       "244833  2017-08-16 15:00:00        15000  0.0     6.0244   50.7983\n",
       "244834  2017-08-16 16:00:00        15000  0.0     6.0244   50.7983\n",
       "244835  2017-08-16 17:00:00        15000  0.0     6.0244   50.7983\n",
       "244836  2017-08-16 18:00:00        15000  0.2     6.0244   50.7983\n",
       "244837  2017-08-16 19:00:00        15000  0.0     6.0244   50.7983\n",
       "244838  2017-08-16 20:00:00        15000  0.0     6.0244   50.7983\n",
       "244839  2017-08-16 21:00:00        15000  0.0     6.0244   50.7983\n",
       "244840  2017-08-16 22:00:00        15000  0.0     6.0244   50.7983\n",
       "244841  2017-08-16 23:00:00        15000  0.0     6.0244   50.7983\n",
       "244842  2017-08-17 00:00:00        15000  0.0     6.0244   50.7983"
      ]
     },
     "execution_count": 4,
     "metadata": {},
     "output_type": "execute_result"
    }
   ],
   "source": [
    "data.tail(10)"
   ]
  },
  {
   "cell_type": "code",
   "execution_count": 5,
   "metadata": {},
   "outputs": [],
   "source": [
    "import datetime as dt"
   ]
  },
  {
   "cell_type": "code",
   "execution_count": 6,
   "metadata": {},
   "outputs": [],
   "source": [
    "#data['mess_datum'].dtypes"
   ]
  },
  {
   "cell_type": "code",
   "execution_count": 7,
   "metadata": {},
   "outputs": [],
   "source": [
    "data['day1'] = pd.to_datetime(data['mess_datum'])"
   ]
  },
  {
   "cell_type": "code",
   "execution_count": 8,
   "metadata": {},
   "outputs": [],
   "source": [
    "day = data['day1'].dt.date"
   ]
  },
  {
   "cell_type": "code",
   "execution_count": 9,
   "metadata": {},
   "outputs": [
    {
     "data": {
      "text/html": [
       "<div>\n",
       "<style scoped>\n",
       "    .dataframe tbody tr th:only-of-type {\n",
       "        vertical-align: middle;\n",
       "    }\n",
       "\n",
       "    .dataframe tbody tr th {\n",
       "        vertical-align: top;\n",
       "    }\n",
       "\n",
       "    .dataframe thead th {\n",
       "        text-align: right;\n",
       "    }\n",
       "</style>\n",
       "<table border=\"1\" class=\"dataframe\">\n",
       "  <thead>\n",
       "    <tr style=\"text-align: right;\">\n",
       "      <th></th>\n",
       "      <th>mess_datum</th>\n",
       "      <th>stations_id</th>\n",
       "      <th>r1</th>\n",
       "      <th>longitude</th>\n",
       "      <th>latitude</th>\n",
       "      <th>day1</th>\n",
       "    </tr>\n",
       "  </thead>\n",
       "  <tbody>\n",
       "    <tr>\n",
       "      <th>244838</th>\n",
       "      <td>2017-08-16 20:00:00</td>\n",
       "      <td>15000</td>\n",
       "      <td>0.0</td>\n",
       "      <td>6.0244</td>\n",
       "      <td>50.7983</td>\n",
       "      <td>2017-08-16 20:00:00</td>\n",
       "    </tr>\n",
       "    <tr>\n",
       "      <th>244839</th>\n",
       "      <td>2017-08-16 21:00:00</td>\n",
       "      <td>15000</td>\n",
       "      <td>0.0</td>\n",
       "      <td>6.0244</td>\n",
       "      <td>50.7983</td>\n",
       "      <td>2017-08-16 21:00:00</td>\n",
       "    </tr>\n",
       "    <tr>\n",
       "      <th>244840</th>\n",
       "      <td>2017-08-16 22:00:00</td>\n",
       "      <td>15000</td>\n",
       "      <td>0.0</td>\n",
       "      <td>6.0244</td>\n",
       "      <td>50.7983</td>\n",
       "      <td>2017-08-16 22:00:00</td>\n",
       "    </tr>\n",
       "    <tr>\n",
       "      <th>244841</th>\n",
       "      <td>2017-08-16 23:00:00</td>\n",
       "      <td>15000</td>\n",
       "      <td>0.0</td>\n",
       "      <td>6.0244</td>\n",
       "      <td>50.7983</td>\n",
       "      <td>2017-08-16 23:00:00</td>\n",
       "    </tr>\n",
       "    <tr>\n",
       "      <th>244842</th>\n",
       "      <td>2017-08-17 00:00:00</td>\n",
       "      <td>15000</td>\n",
       "      <td>0.0</td>\n",
       "      <td>6.0244</td>\n",
       "      <td>50.7983</td>\n",
       "      <td>2017-08-17 00:00:00</td>\n",
       "    </tr>\n",
       "  </tbody>\n",
       "</table>\n",
       "</div>"
      ],
      "text/plain": [
       "                 mess_datum  stations_id   r1  longitude  latitude  \\\n",
       "244838  2017-08-16 20:00:00        15000  0.0     6.0244   50.7983   \n",
       "244839  2017-08-16 21:00:00        15000  0.0     6.0244   50.7983   \n",
       "244840  2017-08-16 22:00:00        15000  0.0     6.0244   50.7983   \n",
       "244841  2017-08-16 23:00:00        15000  0.0     6.0244   50.7983   \n",
       "244842  2017-08-17 00:00:00        15000  0.0     6.0244   50.7983   \n",
       "\n",
       "                      day1  \n",
       "244838 2017-08-16 20:00:00  \n",
       "244839 2017-08-16 21:00:00  \n",
       "244840 2017-08-16 22:00:00  \n",
       "244841 2017-08-16 23:00:00  \n",
       "244842 2017-08-17 00:00:00  "
      ]
     },
     "execution_count": 9,
     "metadata": {},
     "output_type": "execute_result"
    }
   ],
   "source": [
    "data.tail()"
   ]
  },
  {
   "cell_type": "code",
   "execution_count": 10,
   "metadata": {},
   "outputs": [
    {
     "data": {
      "text/plain": [
       "0         2017-04-16 00:00:00\n",
       "1         2017-04-16 01:00:00\n",
       "2         2017-04-16 02:00:00\n",
       "3         2017-04-16 03:00:00\n",
       "4         2017-04-16 04:00:00\n",
       "                 ...         \n",
       "244838    2017-08-16 20:00:00\n",
       "244839    2017-08-16 21:00:00\n",
       "244840    2017-08-16 22:00:00\n",
       "244841    2017-08-16 23:00:00\n",
       "244842    2017-08-17 00:00:00\n",
       "Name: mess_datum, Length: 244843, dtype: object"
      ]
     },
     "execution_count": 10,
     "metadata": {},
     "output_type": "execute_result"
    }
   ],
   "source": [
    "data['mess_datum']"
   ]
  },
  {
   "cell_type": "code",
   "execution_count": 11,
   "metadata": {},
   "outputs": [],
   "source": [
    "data['mess_datum']=pd.to_datetime(data.mess_datum, format='%Y/%m/%d %H:%M:%S')"
   ]
  },
  {
   "cell_type": "code",
   "execution_count": 12,
   "metadata": {},
   "outputs": [],
   "source": [
    "data.insert(loc=6, column='day', value=(data.mess_datum.dt.date))"
   ]
  },
  {
   "cell_type": "code",
   "execution_count": 13,
   "metadata": {},
   "outputs": [
    {
     "data": {
      "text/html": [
       "<div>\n",
       "<style scoped>\n",
       "    .dataframe tbody tr th:only-of-type {\n",
       "        vertical-align: middle;\n",
       "    }\n",
       "\n",
       "    .dataframe tbody tr th {\n",
       "        vertical-align: top;\n",
       "    }\n",
       "\n",
       "    .dataframe thead th {\n",
       "        text-align: right;\n",
       "    }\n",
       "</style>\n",
       "<table border=\"1\" class=\"dataframe\">\n",
       "  <thead>\n",
       "    <tr style=\"text-align: right;\">\n",
       "      <th></th>\n",
       "      <th>mess_datum</th>\n",
       "      <th>stations_id</th>\n",
       "      <th>r1</th>\n",
       "      <th>longitude</th>\n",
       "      <th>latitude</th>\n",
       "      <th>day1</th>\n",
       "      <th>day</th>\n",
       "    </tr>\n",
       "  </thead>\n",
       "  <tbody>\n",
       "    <tr>\n",
       "      <th>244838</th>\n",
       "      <td>2017-08-16 20:00:00</td>\n",
       "      <td>15000</td>\n",
       "      <td>0.0</td>\n",
       "      <td>6.0244</td>\n",
       "      <td>50.7983</td>\n",
       "      <td>2017-08-16 20:00:00</td>\n",
       "      <td>2017-08-16</td>\n",
       "    </tr>\n",
       "    <tr>\n",
       "      <th>244839</th>\n",
       "      <td>2017-08-16 21:00:00</td>\n",
       "      <td>15000</td>\n",
       "      <td>0.0</td>\n",
       "      <td>6.0244</td>\n",
       "      <td>50.7983</td>\n",
       "      <td>2017-08-16 21:00:00</td>\n",
       "      <td>2017-08-16</td>\n",
       "    </tr>\n",
       "    <tr>\n",
       "      <th>244840</th>\n",
       "      <td>2017-08-16 22:00:00</td>\n",
       "      <td>15000</td>\n",
       "      <td>0.0</td>\n",
       "      <td>6.0244</td>\n",
       "      <td>50.7983</td>\n",
       "      <td>2017-08-16 22:00:00</td>\n",
       "      <td>2017-08-16</td>\n",
       "    </tr>\n",
       "    <tr>\n",
       "      <th>244841</th>\n",
       "      <td>2017-08-16 23:00:00</td>\n",
       "      <td>15000</td>\n",
       "      <td>0.0</td>\n",
       "      <td>6.0244</td>\n",
       "      <td>50.7983</td>\n",
       "      <td>2017-08-16 23:00:00</td>\n",
       "      <td>2017-08-16</td>\n",
       "    </tr>\n",
       "    <tr>\n",
       "      <th>244842</th>\n",
       "      <td>2017-08-17 00:00:00</td>\n",
       "      <td>15000</td>\n",
       "      <td>0.0</td>\n",
       "      <td>6.0244</td>\n",
       "      <td>50.7983</td>\n",
       "      <td>2017-08-17 00:00:00</td>\n",
       "      <td>2017-08-17</td>\n",
       "    </tr>\n",
       "  </tbody>\n",
       "</table>\n",
       "</div>"
      ],
      "text/plain": [
       "                mess_datum  stations_id   r1  longitude  latitude  \\\n",
       "244838 2017-08-16 20:00:00        15000  0.0     6.0244   50.7983   \n",
       "244839 2017-08-16 21:00:00        15000  0.0     6.0244   50.7983   \n",
       "244840 2017-08-16 22:00:00        15000  0.0     6.0244   50.7983   \n",
       "244841 2017-08-16 23:00:00        15000  0.0     6.0244   50.7983   \n",
       "244842 2017-08-17 00:00:00        15000  0.0     6.0244   50.7983   \n",
       "\n",
       "                      day1         day  \n",
       "244838 2017-08-16 20:00:00  2017-08-16  \n",
       "244839 2017-08-16 21:00:00  2017-08-16  \n",
       "244840 2017-08-16 22:00:00  2017-08-16  \n",
       "244841 2017-08-16 23:00:00  2017-08-16  \n",
       "244842 2017-08-17 00:00:00  2017-08-17  "
      ]
     },
     "execution_count": 13,
     "metadata": {},
     "output_type": "execute_result"
    }
   ],
   "source": [
    "data.tail()"
   ]
  },
  {
   "cell_type": "code",
   "execution_count": 14,
   "metadata": {},
   "outputs": [],
   "source": [
    "#removing a column\n",
    "del data['day1'] \n",
    "#del data['day_new']"
   ]
  },
  {
   "cell_type": "code",
   "execution_count": 15,
   "metadata": {},
   "outputs": [
    {
     "data": {
      "text/plain": [
       "pandas.core.series.Series"
      ]
     },
     "execution_count": 15,
     "metadata": {},
     "output_type": "execute_result"
    }
   ],
   "source": [
    "type(data['stations_id'])"
   ]
  },
  {
   "cell_type": "markdown",
   "metadata": {},
   "source": [
    "Stations of interest in Olpe and Hochsauerlandskreis:\n",
    "216, 1300, 2483, 2947, 3215, 4488, 5468, 6264, 7330"
   ]
  },
  {
   "cell_type": "code",
   "execution_count": 97,
   "metadata": {},
   "outputs": [
    {
     "data": {
      "text/plain": [
       "pandas.core.series.Series"
      ]
     },
     "execution_count": 97,
     "metadata": {},
     "output_type": "execute_result"
    }
   ],
   "source": [
    "#data['stations_id'] = int(data['stations_id'])\n",
    "data['stations_id'] = data['stations_id'].astype(int)\n",
    "type(data['stations_id'])"
   ]
  },
  {
   "cell_type": "code",
   "execution_count": 101,
   "metadata": {},
   "outputs": [],
   "source": [
    "indx = (data['stations_id'] == 216) | (data['stations_id'] == 1300) |(data['stations_id'] == 2483) | (data['stations_id'] == 2947) | (data['stations_id'] == 3215) | (data['stations_id'] == 4488) | (data['stations_id'] == 5468) | (data['stations_id'] == 6264) | (data['stations_id'] == 7330)"
   ]
  },
  {
   "cell_type": "code",
   "execution_count": 102,
   "metadata": {},
   "outputs": [],
   "source": [
    "stations_of_interest = data[indx][[\"mess_datum\",\"stations_id\", \"r1\",\"longitude\", \"latitude\",\"day\"]]"
   ]
  },
  {
   "cell_type": "code",
   "execution_count": 17,
   "metadata": {},
   "outputs": [
    {
     "ename": "NameError",
     "evalue": "name 'stations_of_interest' is not defined",
     "output_type": "error",
     "traceback": [
      "\u001b[1;31m---------------------------------------------------------------------------\u001b[0m",
      "\u001b[1;31mNameError\u001b[0m                                 Traceback (most recent call last)",
      "\u001b[1;32m<ipython-input-17-0a7ba2895b21>\u001b[0m in \u001b[0;36m<module>\u001b[1;34m\u001b[0m\n\u001b[1;32m----> 1\u001b[1;33m \u001b[0mstations_of_interest\u001b[0m\u001b[1;33m\u001b[0m\u001b[1;33m\u001b[0m\u001b[0m\n\u001b[0m",
      "\u001b[1;31mNameError\u001b[0m: name 'stations_of_interest' is not defined"
     ]
    }
   ],
   "source": [
    "stations_of_interest"
   ]
  },
  {
   "cell_type": "code",
   "execution_count": 121,
   "metadata": {},
   "outputs": [],
   "source": [
    "df_1 = stations_of_interest.groupby(['day','stations_id'])['r1'].sum().to_frame(name = 'daily_prep').reset_index()"
   ]
  },
  {
   "cell_type": "code",
   "execution_count": 173,
   "metadata": {},
   "outputs": [
    {
     "data": {
      "text/html": [
       "<div>\n",
       "<style scoped>\n",
       "    .dataframe tbody tr th:only-of-type {\n",
       "        vertical-align: middle;\n",
       "    }\n",
       "\n",
       "    .dataframe tbody tr th {\n",
       "        vertical-align: top;\n",
       "    }\n",
       "\n",
       "    .dataframe thead th {\n",
       "        text-align: right;\n",
       "    }\n",
       "</style>\n",
       "<table border=\"1\" class=\"dataframe\">\n",
       "  <thead>\n",
       "    <tr style=\"text-align: right;\">\n",
       "      <th></th>\n",
       "      <th>day</th>\n",
       "      <th>stations_id</th>\n",
       "      <th>daily_prep</th>\n",
       "    </tr>\n",
       "  </thead>\n",
       "  <tbody>\n",
       "    <tr>\n",
       "      <th>0</th>\n",
       "      <td>2017-04-16</td>\n",
       "      <td>216</td>\n",
       "      <td>4.3</td>\n",
       "    </tr>\n",
       "    <tr>\n",
       "      <th>1</th>\n",
       "      <td>2017-04-16</td>\n",
       "      <td>1300</td>\n",
       "      <td>3.3</td>\n",
       "    </tr>\n",
       "    <tr>\n",
       "      <th>2</th>\n",
       "      <td>2017-04-16</td>\n",
       "      <td>2483</td>\n",
       "      <td>4.4</td>\n",
       "    </tr>\n",
       "    <tr>\n",
       "      <th>3</th>\n",
       "      <td>2017-04-16</td>\n",
       "      <td>2947</td>\n",
       "      <td>4.7</td>\n",
       "    </tr>\n",
       "    <tr>\n",
       "      <th>4</th>\n",
       "      <td>2017-04-16</td>\n",
       "      <td>3215</td>\n",
       "      <td>1.7</td>\n",
       "    </tr>\n",
       "    <tr>\n",
       "      <th>...</th>\n",
       "      <td>...</td>\n",
       "      <td>...</td>\n",
       "      <td>...</td>\n",
       "    </tr>\n",
       "    <tr>\n",
       "      <th>987</th>\n",
       "      <td>2017-08-17</td>\n",
       "      <td>2947</td>\n",
       "      <td>0.0</td>\n",
       "    </tr>\n",
       "    <tr>\n",
       "      <th>988</th>\n",
       "      <td>2017-08-17</td>\n",
       "      <td>3215</td>\n",
       "      <td>0.0</td>\n",
       "    </tr>\n",
       "    <tr>\n",
       "      <th>989</th>\n",
       "      <td>2017-08-17</td>\n",
       "      <td>4488</td>\n",
       "      <td>0.0</td>\n",
       "    </tr>\n",
       "    <tr>\n",
       "      <th>990</th>\n",
       "      <td>2017-08-17</td>\n",
       "      <td>6264</td>\n",
       "      <td>0.0</td>\n",
       "    </tr>\n",
       "    <tr>\n",
       "      <th>991</th>\n",
       "      <td>2017-08-17</td>\n",
       "      <td>7330</td>\n",
       "      <td>0.0</td>\n",
       "    </tr>\n",
       "  </tbody>\n",
       "</table>\n",
       "<p>992 rows × 3 columns</p>\n",
       "</div>"
      ],
      "text/plain": [
       "            day  stations_id  daily_prep\n",
       "0    2017-04-16          216         4.3\n",
       "1    2017-04-16         1300         3.3\n",
       "2    2017-04-16         2483         4.4\n",
       "3    2017-04-16         2947         4.7\n",
       "4    2017-04-16         3215         1.7\n",
       "..          ...          ...         ...\n",
       "987  2017-08-17         2947         0.0\n",
       "988  2017-08-17         3215         0.0\n",
       "989  2017-08-17         4488         0.0\n",
       "990  2017-08-17         6264         0.0\n",
       "991  2017-08-17         7330         0.0\n",
       "\n",
       "[992 rows x 3 columns]"
      ]
     },
     "execution_count": 173,
     "metadata": {},
     "output_type": "execute_result"
    }
   ],
   "source": [
    "df_1"
   ]
  },
  {
   "cell_type": "code",
   "execution_count": 178,
   "metadata": {},
   "outputs": [
    {
     "name": "stdout",
     "output_type": "stream",
     "text": [
      "df_appended_ts saved to: daily_prep_13_counties.csv\n"
     ]
    }
   ],
   "source": [
    "filepathname = \"daily_prep_13_counties.csv\"\n",
    "print(\"df_appended_ts saved to: %s\" % (filepathname))\n",
    "df_1.to_csv(filepathname,sep=\";\")"
   ]
  },
  {
   "cell_type": "markdown",
   "metadata": {},
   "source": [
    "#### Plot of daily precipitation rate over a four months"
   ]
  },
  {
   "cell_type": "code",
   "execution_count": 174,
   "metadata": {},
   "outputs": [
    {
     "data": {
      "image/png": "[encoded data removed]",
      "text/plain": [
       "<Figure size 1088x544 with 1 Axes>"
      ]
     },
     "metadata": {
      "needs_background": "light"
     },
     "output_type": "display_data"
    }
   ],
   "source": [
    "import matplotlib.pyplot as plt\n",
    "fig = plt.figure(dpi= 136, figsize=(8,4))\n",
    "plt.bar(x=df_1['day'],height=df_1['daily_prep'])\n",
    "plt.show()"
   ]
  },
  {
   "cell_type": "markdown",
   "metadata": {},
   "source": [
    "#### Plotting"
   ]
  },
  {
   "cell_type": "markdown",
   "metadata": {},
   "source": [
    "Plotting cumulative precipitation "
   ]
  },
  {
   "cell_type": "code",
   "execution_count": 169,
   "metadata": {},
   "outputs": [],
   "source": [
    "df_new = df_1.groupby(['day'])['daily_prep'].mean().to_frame(name = 'avg_daily_prep').reset_index()"
   ]
  },
  {
   "cell_type": "code",
   "execution_count": 176,
   "metadata": {},
   "outputs": [
    {
     "data": {
      "text/html": [
       "<div>\n",
       "<style scoped>\n",
       "    .dataframe tbody tr th:only-of-type {\n",
       "        vertical-align: middle;\n",
       "    }\n",
       "\n",
       "    .dataframe tbody tr th {\n",
       "        vertical-align: top;\n",
       "    }\n",
       "\n",
       "    .dataframe thead th {\n",
       "        text-align: right;\n",
       "    }\n",
       "</style>\n",
       "<table border=\"1\" class=\"dataframe\">\n",
       "  <thead>\n",
       "    <tr style=\"text-align: right;\">\n",
       "      <th></th>\n",
       "      <th>day</th>\n",
       "      <th>avg_daily_prep</th>\n",
       "    </tr>\n",
       "  </thead>\n",
       "  <tbody>\n",
       "    <tr>\n",
       "      <th>0</th>\n",
       "      <td>2017-04-16</td>\n",
       "      <td>3.0375</td>\n",
       "    </tr>\n",
       "    <tr>\n",
       "      <th>1</th>\n",
       "      <td>2017-04-17</td>\n",
       "      <td>10.1750</td>\n",
       "    </tr>\n",
       "    <tr>\n",
       "      <th>2</th>\n",
       "      <td>2017-04-18</td>\n",
       "      <td>4.7875</td>\n",
       "    </tr>\n",
       "    <tr>\n",
       "      <th>3</th>\n",
       "      <td>2017-04-19</td>\n",
       "      <td>0.0000</td>\n",
       "    </tr>\n",
       "    <tr>\n",
       "      <th>4</th>\n",
       "      <td>2017-04-20</td>\n",
       "      <td>0.0000</td>\n",
       "    </tr>\n",
       "    <tr>\n",
       "      <th>...</th>\n",
       "      <td>...</td>\n",
       "      <td>...</td>\n",
       "    </tr>\n",
       "    <tr>\n",
       "      <th>119</th>\n",
       "      <td>2017-08-13</td>\n",
       "      <td>2.5625</td>\n",
       "    </tr>\n",
       "    <tr>\n",
       "      <th>120</th>\n",
       "      <td>2017-08-14</td>\n",
       "      <td>0.0000</td>\n",
       "    </tr>\n",
       "    <tr>\n",
       "      <th>121</th>\n",
       "      <td>2017-08-15</td>\n",
       "      <td>0.7750</td>\n",
       "    </tr>\n",
       "    <tr>\n",
       "      <th>122</th>\n",
       "      <td>2017-08-16</td>\n",
       "      <td>5.9500</td>\n",
       "    </tr>\n",
       "    <tr>\n",
       "      <th>123</th>\n",
       "      <td>2017-08-17</td>\n",
       "      <td>0.0000</td>\n",
       "    </tr>\n",
       "  </tbody>\n",
       "</table>\n",
       "<p>124 rows × 2 columns</p>\n",
       "</div>"
      ],
      "text/plain": [
       "            day  avg_daily_prep\n",
       "0    2017-04-16          3.0375\n",
       "1    2017-04-17         10.1750\n",
       "2    2017-04-18          4.7875\n",
       "3    2017-04-19          0.0000\n",
       "4    2017-04-20          0.0000\n",
       "..          ...             ...\n",
       "119  2017-08-13          2.5625\n",
       "120  2017-08-14          0.0000\n",
       "121  2017-08-15          0.7750\n",
       "122  2017-08-16          5.9500\n",
       "123  2017-08-17          0.0000\n",
       "\n",
       "[124 rows x 2 columns]"
      ]
     },
     "execution_count": 176,
     "metadata": {},
     "output_type": "execute_result"
    }
   ],
   "source": [
    "df_new"
   ]
  },
  {
   "cell_type": "code",
   "execution_count": 170,
   "metadata": {},
   "outputs": [
    {
     "data": {
      "image/png": "[encoded data removed]",
      "text/plain": [
       "<Figure size 1088x544 with 1 Axes>"
      ]
     },
     "metadata": {
      "needs_background": "light"
     },
     "output_type": "display_data"
    }
   ],
   "source": [
    "import matplotlib.pyplot as plt\n",
    "fig = plt.figure(dpi= 136, figsize=(8,4))\n",
    "plt.bar(x=df_new['day'],height=df_new['avg_daily_prep'])\n",
    "plt.show()"
   ]
  },
  {
   "cell_type": "code",
   "execution_count": 171,
   "metadata": {},
   "outputs": [
    {
     "data": {
      "text/plain": [
       "<Figure size 1088x544 with 0 Axes>"
      ]
     },
     "metadata": {},
     "output_type": "display_data"
    },
    {
     "data": {
      "image/png": "[encoded data removed]",
      "text/plain": [
       "<Figure size 432x288 with 1 Axes>"
      ]
     },
     "metadata": {
      "needs_background": "light"
     },
     "output_type": "display_data"
    }
   ],
   "source": [
    "import matplotlib.pyplot as plt\n",
    "fig = plt.figure(dpi= 136, figsize=(8,4))\n",
    "df_new.plot()\n",
    "\n",
    "plt.show()"
   ]
  },
  {
   "cell_type": "markdown",
   "metadata": {},
   "source": [
    "#### Creating two data frames for Olpe and Hochsauerlandkreis for plotting as separate graphs in the same diagram"
   ]
  },
  {
   "cell_type": "code",
   "execution_count": 143,
   "metadata": {},
   "outputs": [],
   "source": [
    "olpe = df_1[df_1['stations_id'].isin([216,2947,5468])]#216, 2947,5468 olpe stations\n",
    "\n",
    "hochsauerlandkreis = df_1[df_1['stations_id'].isin([1300,2483,3215,4488,6264,7330])]#1300, 2483, 3215, 4488, 6264, 7330 hochsauerlandkreis stations"
   ]
  },
  {
   "cell_type": "code",
   "execution_count": 144,
   "metadata": {},
   "outputs": [
    {
     "data": {
      "text/html": [
       "<div>\n",
       "<style scoped>\n",
       "    .dataframe tbody tr th:only-of-type {\n",
       "        vertical-align: middle;\n",
       "    }\n",
       "\n",
       "    .dataframe tbody tr th {\n",
       "        vertical-align: top;\n",
       "    }\n",
       "\n",
       "    .dataframe thead th {\n",
       "        text-align: right;\n",
       "    }\n",
       "</style>\n",
       "<table border=\"1\" class=\"dataframe\">\n",
       "  <thead>\n",
       "    <tr style=\"text-align: right;\">\n",
       "      <th></th>\n",
       "      <th>day</th>\n",
       "      <th>stations_id</th>\n",
       "      <th>daily_prep</th>\n",
       "    </tr>\n",
       "  </thead>\n",
       "  <tbody>\n",
       "    <tr>\n",
       "      <th>0</th>\n",
       "      <td>2017-04-16</td>\n",
       "      <td>216</td>\n",
       "      <td>4.3</td>\n",
       "    </tr>\n",
       "    <tr>\n",
       "      <th>3</th>\n",
       "      <td>2017-04-16</td>\n",
       "      <td>2947</td>\n",
       "      <td>4.7</td>\n",
       "    </tr>\n",
       "    <tr>\n",
       "      <th>8</th>\n",
       "      <td>2017-04-17</td>\n",
       "      <td>216</td>\n",
       "      <td>14.6</td>\n",
       "    </tr>\n",
       "    <tr>\n",
       "      <th>11</th>\n",
       "      <td>2017-04-17</td>\n",
       "      <td>2947</td>\n",
       "      <td>12.0</td>\n",
       "    </tr>\n",
       "    <tr>\n",
       "      <th>16</th>\n",
       "      <td>2017-04-18</td>\n",
       "      <td>216</td>\n",
       "      <td>2.6</td>\n",
       "    </tr>\n",
       "    <tr>\n",
       "      <th>...</th>\n",
       "      <td>...</td>\n",
       "      <td>...</td>\n",
       "      <td>...</td>\n",
       "    </tr>\n",
       "    <tr>\n",
       "      <th>971</th>\n",
       "      <td>2017-08-15</td>\n",
       "      <td>2947</td>\n",
       "      <td>0.3</td>\n",
       "    </tr>\n",
       "    <tr>\n",
       "      <th>976</th>\n",
       "      <td>2017-08-16</td>\n",
       "      <td>216</td>\n",
       "      <td>11.7</td>\n",
       "    </tr>\n",
       "    <tr>\n",
       "      <th>979</th>\n",
       "      <td>2017-08-16</td>\n",
       "      <td>2947</td>\n",
       "      <td>7.1</td>\n",
       "    </tr>\n",
       "    <tr>\n",
       "      <th>984</th>\n",
       "      <td>2017-08-17</td>\n",
       "      <td>216</td>\n",
       "      <td>0.0</td>\n",
       "    </tr>\n",
       "    <tr>\n",
       "      <th>987</th>\n",
       "      <td>2017-08-17</td>\n",
       "      <td>2947</td>\n",
       "      <td>0.0</td>\n",
       "    </tr>\n",
       "  </tbody>\n",
       "</table>\n",
       "<p>248 rows × 3 columns</p>\n",
       "</div>"
      ],
      "text/plain": [
       "            day  stations_id  daily_prep\n",
       "0    2017-04-16          216         4.3\n",
       "3    2017-04-16         2947         4.7\n",
       "8    2017-04-17          216        14.6\n",
       "11   2017-04-17         2947        12.0\n",
       "16   2017-04-18          216         2.6\n",
       "..          ...          ...         ...\n",
       "971  2017-08-15         2947         0.3\n",
       "976  2017-08-16          216        11.7\n",
       "979  2017-08-16         2947         7.1\n",
       "984  2017-08-17          216         0.0\n",
       "987  2017-08-17         2947         0.0\n",
       "\n",
       "[248 rows x 3 columns]"
      ]
     },
     "execution_count": 144,
     "metadata": {},
     "output_type": "execute_result"
    }
   ],
   "source": [
    "olpe"
   ]
  },
  {
   "cell_type": "code",
   "execution_count": null,
   "metadata": {},
   "outputs": [],
   "source": []
  },
  {
   "cell_type": "raw",
   "metadata": {
    "jupyter": {
     "source_hidden": true
    }
   },
   "source": [
    "fig = plt.figure(dpi= 136, figsize=(15,10))\n",
    "#N = len(ndvi['id'])\n",
    "#x = np.arange(N)\n",
    "\n",
    "\n",
    "#plt.xticks(x, list(ndvi['id']))\n",
    "plt.plot(\"day\",'daily_prep',  data=df_1[df_1['stations_id'] == 216], marker='o', markerfacecolor='skyblue',  color='skyblue', linewidth=2)\n",
    "plt.plot(\"day\",'daily_prep',  data=df_1[df_1['stations_id'] == 1300], marker='o', markerfacecolor='blue',  color='blue', linewidth=2)\n",
    "plt.plot(\"day\",'daily_prep',  data=df_1[df_1['stations_id'] == 2483], marker='o', markerfacecolor='red',  color='red', linewidth=2)\n",
    "plt.plot(\"day\",'daily_prep',  data=df_1[df_1['stations_id'] == 2947], marker='o', markerfacecolor='green',  color='green', linewidth=2)\n",
    "plt.plot(\"day\",'daily_prep',  data=df_1[df_1['stations_id'] == 3215], marker='o', markerfacecolor='purple',  color='purple', linewidth=2)\n",
    "plt.plot(\"day\",'daily_prep',  data=df_1[df_1['stations_id'] == 4488], marker='o', markerfacecolor='pink',  color='pink', linewidth=2)\n",
    "plt.plot(\"day\",'daily_prep',  data=df_1[df_1['stations_id'] == 5468], marker='o', markerfacecolor='yellow',  color='yellow', linewidth=2)\n",
    "plt.plot(\"day\",'daily_prep',  data=df_1[df_1['stations_id'] == 6264], marker='o', markerfacecolor='brown',  color='brown', linewidth=2)\n",
    "plt.plot(\"day\",'daily_prep',  data=df_1[df_1['stations_id'] == 7330], marker='o', markerfacecolor='black',  color='black', linewidth=2)\n",
    "plt.legend()\n",
    "\n",
    "#216, 1300, 2483, 2947, 3215, 4488, 5468, 6264, 7330\n",
    "plt.show()"
   ]
  },
  {
   "cell_type": "markdown",
   "metadata": {},
   "source": [
    "#### Average daily precipitation values of all stations in Olpe and Hochsauerlandkreis "
   ]
  },
  {
   "cell_type": "code",
   "execution_count": 161,
   "metadata": {},
   "outputs": [],
   "source": [
    "df_2 = olpe.groupby(['day'])['daily_prep'].mean().to_frame(name = 'Olpe_avg_daily_prep').reset_index()\n",
    "df_3 = hochsauerlandkreis.groupby(['day'])['daily_prep'].mean().to_frame(name = 'Hochland_avg_daily_prep').reset_index()"
   ]
  },
  {
   "cell_type": "code",
   "execution_count": 163,
   "metadata": {},
   "outputs": [
    {
     "data": {
      "text/html": [
       "<div>\n",
       "<style scoped>\n",
       "    .dataframe tbody tr th:only-of-type {\n",
       "        vertical-align: middle;\n",
       "    }\n",
       "\n",
       "    .dataframe tbody tr th {\n",
       "        vertical-align: top;\n",
       "    }\n",
       "\n",
       "    .dataframe thead th {\n",
       "        text-align: right;\n",
       "    }\n",
       "</style>\n",
       "<table border=\"1\" class=\"dataframe\">\n",
       "  <thead>\n",
       "    <tr style=\"text-align: right;\">\n",
       "      <th></th>\n",
       "      <th>day</th>\n",
       "      <th>Olpe_avg_daily_prep</th>\n",
       "    </tr>\n",
       "  </thead>\n",
       "  <tbody>\n",
       "    <tr>\n",
       "      <th>0</th>\n",
       "      <td>2017-04-16</td>\n",
       "      <td>4.50</td>\n",
       "    </tr>\n",
       "    <tr>\n",
       "      <th>1</th>\n",
       "      <td>2017-04-17</td>\n",
       "      <td>13.30</td>\n",
       "    </tr>\n",
       "    <tr>\n",
       "      <th>2</th>\n",
       "      <td>2017-04-18</td>\n",
       "      <td>3.35</td>\n",
       "    </tr>\n",
       "    <tr>\n",
       "      <th>3</th>\n",
       "      <td>2017-04-19</td>\n",
       "      <td>0.00</td>\n",
       "    </tr>\n",
       "    <tr>\n",
       "      <th>4</th>\n",
       "      <td>2017-04-20</td>\n",
       "      <td>0.00</td>\n",
       "    </tr>\n",
       "    <tr>\n",
       "      <th>...</th>\n",
       "      <td>...</td>\n",
       "      <td>...</td>\n",
       "    </tr>\n",
       "    <tr>\n",
       "      <th>119</th>\n",
       "      <td>2017-08-13</td>\n",
       "      <td>4.05</td>\n",
       "    </tr>\n",
       "    <tr>\n",
       "      <th>120</th>\n",
       "      <td>2017-08-14</td>\n",
       "      <td>0.00</td>\n",
       "    </tr>\n",
       "    <tr>\n",
       "      <th>121</th>\n",
       "      <td>2017-08-15</td>\n",
       "      <td>0.85</td>\n",
       "    </tr>\n",
       "    <tr>\n",
       "      <th>122</th>\n",
       "      <td>2017-08-16</td>\n",
       "      <td>9.40</td>\n",
       "    </tr>\n",
       "    <tr>\n",
       "      <th>123</th>\n",
       "      <td>2017-08-17</td>\n",
       "      <td>0.00</td>\n",
       "    </tr>\n",
       "  </tbody>\n",
       "</table>\n",
       "<p>124 rows × 2 columns</p>\n",
       "</div>"
      ],
      "text/plain": [
       "            day  Olpe_avg_daily_prep\n",
       "0    2017-04-16                 4.50\n",
       "1    2017-04-17                13.30\n",
       "2    2017-04-18                 3.35\n",
       "3    2017-04-19                 0.00\n",
       "4    2017-04-20                 0.00\n",
       "..          ...                  ...\n",
       "119  2017-08-13                 4.05\n",
       "120  2017-08-14                 0.00\n",
       "121  2017-08-15                 0.85\n",
       "122  2017-08-16                 9.40\n",
       "123  2017-08-17                 0.00\n",
       "\n",
       "[124 rows x 2 columns]"
      ]
     },
     "execution_count": 163,
     "metadata": {},
     "output_type": "execute_result"
    }
   ],
   "source": [
    "df_2"
   ]
  },
  {
   "cell_type": "markdown",
   "metadata": {},
   "source": [
    "#### Plotting Olpe and Hochsauerlandkreis separately"
   ]
  },
  {
   "cell_type": "markdown",
   "metadata": {},
   "source": [
    "Plot shows average daily precipitation rate in Olpe(red color) and in Hocsauerlandskreis(blue color)"
   ]
  },
  {
   "cell_type": "code",
   "execution_count": 166,
   "metadata": {},
   "outputs": [
    {
     "data": {
      "image/png": "[encoded data removed]",
      "text/plain": [
       "<Figure size 2040x1360 with 1 Axes>"
      ]
     },
     "metadata": {
      "needs_background": "light"
     },
     "output_type": "display_data"
    }
   ],
   "source": [
    "fig = plt.figure(dpi= 136, figsize=(15,10))\n",
    "\n",
    "plt.plot('day','Olpe_avg_daily_prep',  data=df_2, marker='o', markerfacecolor='red',  color='red', linewidth=2)\n",
    "plt.plot('day','Hochland_avg_daily_prep',  data=df_3, marker='o', markerfacecolor='blue',  color='blue', linewidth=2)\n",
    "plt.legend()\n",
    "\n",
    "#216, 1300, 2483, 2947, 3215, 4488, 5468, 6264, 7330\n",
    "plt.show()"
   ]
  },
  {
   "cell_type": "code",
   "execution_count": null,
   "metadata": {},
   "outputs": [],
   "source": []
  },
  {
   "cell_type": "markdown",
   "metadata": {},
   "source": [
    "## Analyse cumulative precipitation vs altitude (DTM)"
   ]
  },
  {
   "cell_type": "markdown",
   "metadata": {},
   "source": [
    "Altitudes of stations in the ROI (13 counties)"
   ]
  },
  {
   "cell_type": "code",
   "execution_count": 46,
   "metadata": {},
   "outputs": [],
   "source": []
  },
  {
   "cell_type": "code",
   "execution_count": null,
   "metadata": {},
   "outputs": [],
   "source": []
  }
 ],
 "metadata": {
  "kernelspec": {
   "display_name": "Python 3",
   "language": "python",
   "name": "python3"
  },
  "language_info": {
   "codemirror_mode": {
    "name": "ipython",
    "version": 3
   },
   "file_extension": ".py",
   "mimetype": "text/x-python",
   "name": "python",
   "nbconvert_exporter": "python",
   "pygments_lexer": "ipython3",
   "version": "3.8.3"
  }
 },
 "nbformat": 4,
 "nbformat_minor": 4
}
